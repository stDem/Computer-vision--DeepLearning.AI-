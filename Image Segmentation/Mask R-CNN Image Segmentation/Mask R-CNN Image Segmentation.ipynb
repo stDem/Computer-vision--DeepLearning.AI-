{
 "cells": [
  {
   "cell_type": "markdown",
   "id": "fbc7be56",
   "metadata": {},
   "source": [
    "# Mask R-CNN Image Segmentation\n",
    "\n",
    "In this lab, I use a [Mask R-CNN](https://arxiv.org/abs/1703.06870) model from Tensorflow Hub for object detection and instance segmentation. This means that aside from the bounding boxes, the model is also able to predict segmentation masks for each instance of a class in the image."
   ]
  },
  {
   "cell_type": "markdown",
   "id": "b0f7e467",
   "metadata": {},
   "source": [
    "## Installation\n",
    "\n",
    "As mentioned, I use the Tensorflow 2 [Object Detection API](https://github.com/tensorflow/models/tree/master/research/object_detection). I can do that by cloning the [Tensorflow Model Garden](https://github.com/tensorflow/models) and installing the object detection packages."
   ]
  },
  {
   "cell_type": "code",
   "execution_count": null,
   "id": "bda1f38f",
   "metadata": {},
   "outputs": [],
   "source": [
    "# Clone the tensorflow models repository\n",
    "!git clone --depth 1 https://github.com/tensorflow/models"
   ]
  },
  {
   "cell_type": "code",
   "execution_count": null,
   "id": "d6170811",
   "metadata": {},
   "outputs": [],
   "source": [
    "# Compile the Object Detection API protocol buffers and install the necessary packages\n",
    "!cd models/research/ && protoc object_detection/protos/*.proto --python_out=. && cp object_detection/packages/tf2/setup.py . && python -m pip install ."
   ]
  },
  {
   "cell_type": "code",
   "execution_count": null,
   "id": "657b6c1d",
   "metadata": {},
   "outputs": [],
   "source": [
    "# Downgrade protobuf for compatibility\n",
    "!pip install protobuf==3.20"
   ]
  },
  {
   "cell_type": "markdown",
   "id": "2b856c09",
   "metadata": {},
   "source": [
    "## Import libraries\n",
    "\n",
    "_Note: we need to restart the runtime to reload the modules we installed in the previous section. Else, we will get an error."
   ]
  },
  {
   "cell_type": "code",
   "execution_count": null,
   "id": "96749d0f",
   "metadata": {},
   "outputs": [],
   "source": [
    "import tensorflow as tf\n",
    "import tensorflow_hub as hub\n",
    "\n",
    "import matplotlib\n",
    "import matplotlib.pyplot as plt\n",
    "\n",
    "import numpy as np\n",
    "from six import BytesIO\n",
    "from PIL import Image\n",
    "from six.moves.urllib.request import urlopen\n",
    "\n",
    "from object_detection.utils import label_map_util\n",
    "from object_detection.utils import visualization_utils as viz_utils\n",
    "from object_detection.utils import ops as utils_ops\n",
    "\n",
    "tf.get_logger().setLevel('ERROR')\n",
    "\n",
    "%matplotlib inline"
   ]
  },
  {
   "cell_type": "markdown",
   "id": "0ec714ea",
   "metadata": {},
   "source": [
    "## Utilities\n",
    "\n",
    "For convenience, I use a function to convert an image to a numpy array. I can pass in a relative path to an image (e.g. to a local directory) or a URL. I can see this in the `TEST_IMAGES` dictionary below. Some paths point to test images that come with the API package (e.g. `Beach`) while others are URLs that point to images online (e.g. `Street`)."
   ]
  },
  {
   "cell_type": "code",
   "execution_count": null,
   "id": "b0ee1016",
   "metadata": {},
   "outputs": [],
   "source": [
    "def load_image_into_numpy_array(path):\n",
    "  \"\"\"Load an image from file into a numpy array.\n",
    "\n",
    "  Puts image into numpy array to feed into tensorflow graph.\n",
    "  Note that by convention we put it into a numpy array with shape\n",
    "  (height, width, channels), where channels=3 for RGB.\n",
    "\n",
    "  Args:\n",
    "    path: the file path to the image\n",
    "\n",
    "  Returns:\n",
    "    uint8 numpy array with shape (img_height, img_width, 3)\n",
    "  \"\"\"\n",
    "  image = None\n",
    "  if(path.startswith('http')):\n",
    "    response = urlopen(path)\n",
    "    image_data = response.read()\n",
    "    image_data = BytesIO(image_data)\n",
    "    image = Image.open(image_data)\n",
    "  else:\n",
    "    image_data = tf.io.gfile.GFile(path, 'rb').read()\n",
    "    image = Image.open(BytesIO(image_data))\n",
    "\n",
    "  (im_width, im_height) = (image.size)\n",
    "  return np.array(image.getdata()).reshape(\n",
    "      (1, im_height, im_width, 3)).astype(np.uint8)\n",
    "\n",
    "\n",
    "# dictionary with image tags as keys, and image paths as values\n",
    "TEST_IMAGES = {\n",
    "  'Beach' : 'models/research/object_detection/test_images/image2.jpg',\n",
    "  'Dogs' : 'models/research/object_detection/test_images/image1.jpg',\n",
    "  # By Américo Toledano, Source: https://commons.wikimedia.org/wiki/File:Biblioteca_Maim%C3%B3nides,_Campus_Universitario_de_Rabanales_007.jpg\n",
    "  'Phones' : 'https://upload.wikimedia.org/wikipedia/commons/thumb/0/0d/Biblioteca_Maim%C3%B3nides%2C_Campus_Universitario_de_Rabanales_007.jpg/1024px-Biblioteca_Maim%C3%B3nides%2C_Campus_Universitario_de_Rabanales_007.jpg',\n",
    "  # By 663highland, Source: https://commons.wikimedia.org/wiki/File:Kitano_Street_Kobe01s5s4110.jpg\n",
    "  'Street' : 'https://upload.wikimedia.org/wikipedia/commons/thumb/0/08/Kitano_Street_Kobe01s5s4110.jpg/2560px-Kitano_Street_Kobe01s5s4110.jpg'\n",
    "}"
   ]
  },
  {
   "cell_type": "markdown",
   "id": "d8bff5a4",
   "metadata": {},
   "source": [
    "## Load the Model\n",
    "\n",
    "Tensorflow Hub provides a Mask-RCNN model that is built with the Object Detection API. we can read about the details [here](https://tfhub.dev/tensorflow/mask_rcnn/inception_resnet_v2_1024x1024/1). Let's first load the model and see how to use it."
   ]
  },
  {
   "cell_type": "code",
   "execution_count": null,
   "id": "cd81a506",
   "metadata": {},
   "outputs": [],
   "source": [
    "model_display_name = 'Mask R-CNN Inception ResNet V2 1024x1024'\n",
    "model_handle = 'https://tfhub.dev/tensorflow/mask_rcnn/inception_resnet_v2_1024x1024/1'\n",
    "\n",
    "print('Selected model:'+ model_display_name)\n",
    "print('Model Handle at TensorFlow Hub: {}'.format(model_handle))"
   ]
  },
  {
   "cell_type": "code",
   "execution_count": null,
   "id": "14434f30",
   "metadata": {},
   "outputs": [],
   "source": [
    "\n",
    "print('loading model...')\n",
    "hub_model = hub.load(model_handle)\n",
    "print('model loaded!')"
   ]
  },
  {
   "cell_type": "markdown",
   "id": "bf12682c",
   "metadata": {},
   "source": [
    "### Inference\n",
    "I use the model that was just loaded to do instance segmentation on an image. First, choose one of the test images that was specified earlier and load it into a numpy array."
   ]
  },
  {
   "cell_type": "code",
   "execution_count": null,
   "id": "d748c657",
   "metadata": {},
   "outputs": [],
   "source": [
    "# Choose one and use as key for TEST_IMAGES below:\n",
    "# ['Beach', 'Street', 'Dogs','Phones']\n",
    "\n",
    "image_path = TEST_IMAGES['Street']\n",
    "\n",
    "image_np = load_image_into_numpy_array(image_path)\n",
    "\n",
    "plt.figure(figsize=(24,32))\n",
    "plt.imshow(image_np[0])\n",
    "plt.show()"
   ]
  },
  {
   "cell_type": "markdown",
   "id": "82e6e655",
   "metadata": {},
   "source": [
    "we can run inference by simply passing the numpy array of a *single* image to the model. Take note that this model does not support batching. this will output a dictionary containing the results. These are described in the `Outputs` section of the [documentation](https://tfhub.dev/tensorflow/mask_rcnn/inception_resnet_v2_1024x1024/1)"
   ]
  },
  {
   "cell_type": "code",
   "execution_count": null,
   "id": "96b96a0c",
   "metadata": {},
   "outputs": [],
   "source": [
    "# run inference\n",
    "results = hub_model(image_np)\n",
    "\n",
    "# output values are tensors and we only need the numpy()\n",
    "# parameter when we visualize the results\n",
    "result = {key:value.numpy() for key,value in results.items()}\n",
    "\n",
    "# print the keys\n",
    "for key in result.keys():\n",
    "  print(key)"
   ]
  },
  {
   "cell_type": "markdown",
   "id": "6ec1194c",
   "metadata": {},
   "source": [
    "## Visualizing the results\n",
    "\n",
    "I can now plot the results on the original image. First, I need to create the `category_index` dictionary that will contain the class IDs and names. The model was trained on the [COCO2017 dataset](https://cocodataset.org/) and the API package has the labels saved in a different format (i.e. `mscoco_label_map.pbtxt`). I can use the [create_category_index_from_labelmap](https://github.com/tensorflow/models/blob/5ee7a4627edcbbaaeb8a564d690b5f1bc498a0d7/research/object_detection/utils/label_map_util.py#L313) internal utility function to convert this to the required dictionary format."
   ]
  },
  {
   "cell_type": "code",
   "execution_count": null,
   "id": "7c7cfdb7",
   "metadata": {},
   "outputs": [],
   "source": [
    "PATH_TO_LABELS = './models/research/object_detection/data/mscoco_label_map.pbtxt'\n",
    "category_index = label_map_util.create_category_index_from_labelmap(PATH_TO_LABELS, use_display_name=True)\n",
    "\n",
    "# sample output\n",
    "print(category_index[1])\n",
    "print(category_index[2])\n",
    "print(category_index[4])"
   ]
  },
  {
   "cell_type": "markdown",
   "id": "9c321f9b",
   "metadata": {},
   "source": [
    "Next, I preprocess the masks then finally plot the results.\n",
    "\n",
    "* The result dictionary contains a `detection_masks` key containing segmentation masks for each box. That will be converted first to masks that will overlay to the full image size.\n",
    "* I also select mask pixel values that are above a certain threshold. I picked a value of `0.6`. If to pick something lower, then can be most likely noticed mask pixels that are outside the object.\n",
    "* I use `visualize_boxes_and_labels_on_image_array()` to plot the results on the image. the parameter `instance_masks` and I will pass in the reframed detection boxes to see the segmentation masks on the image.\n"
   ]
  },
  {
   "cell_type": "code",
   "execution_count": null,
   "id": "b24ced0d",
   "metadata": {},
   "outputs": [],
   "source": [
    "# Handle models with masks:\n",
    "label_id_offset = 0\n",
    "image_np_with_mask = image_np.copy()\n",
    "\n",
    "if 'detection_masks' in result:\n",
    "\n",
    "  # convert np.arrays to tensors\n",
    "  detection_masks = tf.convert_to_tensor(result['detection_masks'][0])\n",
    "  detection_boxes = tf.convert_to_tensor(result['detection_boxes'][0])\n",
    "\n",
    "  # reframe the the bounding box mask to the image size.\n",
    "  detection_masks_reframed = utils_ops.reframe_box_masks_to_image_masks(\n",
    "            detection_masks, detection_boxes,\n",
    "              image_np.shape[1], image_np.shape[2])\n",
    "\n",
    "  # filter mask pixel values that are above a specified threshold\n",
    "  detection_masks_reframed = tf.cast(detection_masks_reframed > 0.6,\n",
    "                                      tf.uint8)\n",
    "\n",
    "  # get the numpy array\n",
    "  result['detection_masks_reframed'] = detection_masks_reframed.numpy()\n",
    "\n",
    "# overlay labeled boxes and segmentation masks on the image\n",
    "viz_utils.visualize_boxes_and_labels_on_image_array(\n",
    "      image_np_with_mask[0],\n",
    "      result['detection_boxes'][0],\n",
    "      (result['detection_classes'][0] + label_id_offset).astype(int),\n",
    "      result['detection_scores'][0],\n",
    "      category_index,\n",
    "      use_normalized_coordinates=True,\n",
    "      max_boxes_to_draw=100,\n",
    "      min_score_thresh=.70,\n",
    "      agnostic_mode=False,\n",
    "      instance_masks=result.get('detection_masks_reframed', None),\n",
    "      line_thickness=8)\n",
    "\n",
    "plt.figure(figsize=(24,32))\n",
    "plt.imshow(image_np_with_mask[0])\n",
    "plt.show()"
   ]
  }
 ],
 "metadata": {
  "kernelspec": {
   "display_name": "base",
   "language": "python",
   "name": "python3"
  },
  "language_info": {
   "codemirror_mode": {
    "name": "ipython",
    "version": 3
   },
   "file_extension": ".py",
   "mimetype": "text/x-python",
   "name": "python",
   "nbconvert_exporter": "python",
   "pygments_lexer": "ipython3",
   "version": "3.12.7"
  }
 },
 "nbformat": 4,
 "nbformat_minor": 5
}
